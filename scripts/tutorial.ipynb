{
 "cells": [
  {
   "cell_type": "markdown",
   "source": [
    "ATMO compositions are stored in a `csv` and can be loaded as a `AtmoStructureGroup`"
   ],
   "metadata": {
    "collapsed": false
   }
  },
  {
   "cell_type": "code",
   "execution_count": 8,
   "metadata": {
    "collapsed": true,
    "pycharm": {
     "name": "#%%\n"
    }
   },
   "outputs": [
    {
     "name": "stderr",
     "output_type": "stream",
     "text": [
      "WARNING:root:loading master group as a dataframe of shape: (3725, 9)\n"
     ]
    },
    {
     "name": "stdout",
     "output_type": "stream",
     "text": [
      "E:\\projects\\CompAugCycleGAN\\cacgan\\data\\atmo.csv\n"
     ]
    },
    {
     "name": "stderr",
     "output_type": "stream",
     "text": [
      "WARNING:root:invalid entry encountered: YIQRUO -- (Al1 O4 P1)n,x(H2 O1),x(C4 H11 N1)\n"
     ]
    },
    {
     "name": "stdout",
     "output_type": "stream",
     "text": [
      "<cacgan.data.schema.AtmoStructureGroup object at 0x0000029A90120B50>\n",
      "['Ag', 'Al', 'Am', 'As', 'B', 'Ba', 'Be', 'Bi', 'Br', 'C', 'Ca', 'Cd', 'Ce', 'Cl', 'Co', 'Cr', 'Cs', 'Cu', 'Dy', 'Er', 'Eu', 'F', 'Fe', 'Ga', 'Gd', 'Ge', 'H', 'Hf', 'Ho', 'I', 'In', 'K', 'La', 'Li', 'Lu', 'Mg', 'Mn', 'Mo', 'N', 'Na', 'Nb', 'Nd', 'Ni', 'Np', 'O', 'P', 'Pb', 'Pr', 'Pt', 'Pu', 'Rb', 'Re', 'Ru', 'S', 'Sb', 'Sc', 'Se', 'Si', 'Sm', 'Sn', 'Sr', 'Ta', 'Tb', 'Tc', 'Te', 'Th', 'Ti', 'Tm', 'U', 'V', 'W', 'Y', 'Yb', 'Zn', 'Zr']\n",
      "['C(=Cc1ccncc1)c1ccncc1', 'C(=Nn1cnnc1)c1ccncc1', 'C(CC1CCNCC1)CC1CCNCC1', 'C1=C2N=C(C=C3N=C(C=C4N=C(C=C5N=C1C1=C5CCCC1)C1=C4CCCC1)C1=C3CCCC1)C1=C2CCCC1', 'C1=CNCN1', 'C1=Cc2nc1c(-c1ccccc1)c1ccc([nH]1)c(-c1ccccc1)c1nc(c(-c3ccccc3)c3ccc([nH]3)c2-c2ccccc2)C=C1', 'C1=Cc2nc1c(-c1cccnc1)c1ccc([nH]1)c(-c1cccnc1)c1nc(c(-c3cccnc3)c3ccc([nH]3)c2-c2cccnc2)C=C1', 'C1=Cc2nc1c(-c1ccncc1)c1ccc([nH]1)c(-c1ccncc1)c1nc(c(-c3ccncc3)c3ccc([nH]3)c2-c2ccncc2)C=C1', 'C1CC(C2CCNCC2)CCN1', 'C1CC2CCC1CNC2', 'C1CCC(N2CCNCC2)CC1', 'C1CCC(NC2CCCCC2)CC1', 'C1CCC2=NCCCN2CC1', 'C1CCCNCC1', 'C1CCNC1', 'C1CCNCC1', 'C1CN2CCC1C2', 'C1CN2CCC1CC2', 'C1CN2CCN1CC2', 'C1CN=C2NCCCN2C1', 'C1CNC(CN2CCCC2)C1', 'C1CNC1', 'C1CNCCCNC1', 'C1CNCCN(CCN(CCN2CCNCCNCCNCC2)CCN2CCNCCNCCNCC2)CCNCCN1', 'C1CNCCN1', 'C1CNCCNC1', 'C1CNCCNCCCNCCNC1', 'C1CNCCNCCNCCN1', 'C1N2CN3CN1CN(C2)C3', 'C=CCC1(CC=C)CCN2CCC(CC=C)(CC=C)NC2=N1', 'CC(=N)N', 'CC(C)(C)CC(C)(C)N', 'CC(C)(C)N', 'CC(C)(C)c1cc(C(C)(C)C)[nH]n1', 'CC(C)(C)c1ccnc(-c2cc(C(C)(C)C)ccn2)c1', 'CC(C)(CN)CN', 'CC(C)(N)CN', 'CC(C)CN', 'CC(C)N', 'CC(C)NC(C)C', 'CC(C)NCCNC(C)C', 'CC(CCN(C)C)N(C)C', 'CC(CN)CCCN', 'CC(N)C=N', 'CC(N)CCCCN', 'CC(N)CN', 'CC(N)c1ccccc1', 'CC1(C)CC(N)CC(C)(C)N1', 'CC1(C)CC(N)CC(C)(CN)C1', 'CC1(C)CCCC(C)(C)N1', 'CC1(N)CCC(N)C1(C)C', 'CC1=CC(=C(c2ccc(N)c(C)c2)c2ccc(N)c(C)c2)C=CC1=N', 'CC1=NCCCN1', 'CC1CC(C)(C)NCCNC(C)CC(C)(C)NCCN1', 'CC1CCNCC1', 'CC1CN(C)CC(C)N1', 'CC1CNC(C)CN1', 'CC1CNCC(C)N1', 'CC1CNCCN1', 'CCC(C)N', 'CCC(N)CCN', 'CCC1(CC)c2ccc([nH]2)CN(C)Cc2ccc([nH]2)C(CC)(CC)c2ccc([nH]2)CN(C)Cc2ccc1[nH]2', 'CCC1=C(CC)c2nc1c1[nH]c(c(CC)c1CC)c1[nH]c(c(CC)c1CC)c1[nH]c(c3nc(c4[nH]c(c(CC)c4CC)c4[nH]c(c(CC)c4CC)c4[nH]c2c(CC)c4CC)C(CC)=C3CC)c(CC)c1CC', 'CCC1=C(CC)c2nc1c1[nH]c(c(CC)c1CC)c1[nH]c(c3nc(c4[nH]c(c(CC)c4CC)c4[nH]c(c(CC)c4CC)c4[nH]c(c(CC)c4CC)c4[nH]c2c(CC)c4CC)C(CC)=C3CC)c(CC)c1CC', 'CCCC(C)N', 'CCCC(N)CN', 'CCCCC(CC)CNCC(CC)CCCC', 'CCCCCCCCCCCCCCCCCCN', 'CCCCCCCCCCCCCCCCN', 'CCCCCCCCCCCCCCN', 'CCCCCCCCCCCCN', 'CCCCCCCCCCCCn1ccnc1', 'CCCCCCCCN', 'CCCCCCCN', 'CCCCCCN', 'CCCCCN', 'CCCCCNC', 'CCCCN', 'CCCCN(CCCC)CCCC', 'CCCCNC', 'CCCCNCC', 'CCCCNCCCC', 'CCCN', 'CCCN(C)CCC', 'CCCN(CCC)CCC', 'CCCNCC', 'CCCNCCC', 'CCCNCCN', 'CCCc1nc2ccccc2[nH]1', 'CCCn1ccnc1', 'CCN', 'CCN(C)CC', 'CCN(CC)CC', 'CCN(CC)CCCN', 'CCN(CC)CCN', 'CCN(CC)CCN(CC)CC', 'CCN1CCCC1CN', 'CCN1CCNCC1', 'CCNC', 'CCNC(C)C', 'CCNC1CC(C)(C)NC(C)(C)C1', 'CCNC1CCCCC1', 'CCNCC', 'CCNCCCN', 'CCNCCN(C)C', 'CCNCCNCC', 'CCc1cccc(C)c1N', 'CCc1cccnc1', 'CCc1nc2ccccc2[nH]1', 'CCc1nc2ccccc2n1CCCCn1c(CC)nc2ccccc21', 'CCn1ccnc1N=Nc1ccc(C)cc1', 'CN', 'CN(C)C', 'CN(C)C(=N)N(C)C', 'CN(C)C(=N)NC(=N)N', 'CN(C)C(N)=NC(=N)N', 'CN(C)C12CC3CC(C)(CC(C)(C3)C1)C2', 'CN(C)C=CCN', 'CN(C)CCCCCCN(C)C', 'CN(C)CCCCN(C)C', 'CN(C)CCCN', 'CN(C)CCCN(C)C', 'CN(C)CCCNCCCN(C)C', 'CN(C)CCN', 'CN(C)CCN(C)C', 'CN(C)CCN(C)CCN(C)C', 'CN(C)Cc1ccccc1', 'CN(C)N', 'CN(C)c1ccccc1', 'CN(C)c1ccncc1', 'CN(CCCN)CCCN', 'CN1C2CCC1CC(N)C2', 'CN1CCCC1', 'CN1CCCC1c1cccnc1', 'CN1CCCCC1', 'CN1CCCN(C)CCN(C)CCCN(C)CC1', 'CN1CCN(C)CC1', 'CN1CCNCC1', 'CNC', 'CNCC(C)C', 'CNCCCCCCNC', 'CNCCCN', 'CNCCCNC', 'CNCCN', 'CNCCNC', 'CNN', 'Cc1c(C)c(N)c(C)c(C)c1N', 'Cc1c(Cn2ccnc2)c(C)c(Cn2ccnc2)c(C)c1Cn1ccnc1', 'Cc1c[nH]cn1', 'Cc1cc(-c2ccc(N)c(C)c2)ccc1N', 'Cc1cc(-n2ccnc2)c(C)cc1-n1ccnc1', 'Cc1cc(C(C)(C)C)nc(C(C)(C)C)c1', 'Cc1cc(C)[nH]n1', 'Cc1cc(C)nc(N)c1', 'Cc1cc(C)nc(N)n1', 'Cc1cc2nc3ccc(N(C)C)cc3nc2cc1N', 'Cc1ccc(C)c(N)c1', 'Cc1ccc(CN)cc1', 'Cc1ccc(N)cc1', 'Cc1ccc(N)cc1C', 'Cc1ccc2ccc3ccc(C)nc3c2n1', 'Cc1ccc2ccccc2n1', 'Cc1ccc2nc[nH]c2c1', 'Cc1ccc2ncccc2c1', 'Cc1cccc(-c2cccc(-c3cccc(C)n3)n2)n1', 'Cc1cccc(-c2ccccn2)n1', 'Cc1cccc(C)c1N', 'Cc1cccc(C)n1', 'Cc1cccc(N)c1', 'Cc1cccc(N)c1C', 'Cc1cccc(N)n1', 'Cc1cccc(N2CCNCC2)c1C', 'Cc1ccccc1N', 'Cc1ccccn1', 'Cc1cccnc1', 'Cc1ccnc(-c2cc(C)ccn2)c1', 'Cc1ccnc(N)c1', 'Cc1ccnc2ccccc12', 'Cc1ccncc1', 'Cc1cnc[nH]1', 'Cc1n[nH]c(C)c1-c1c(C)n[nH]c1C', 'Cc1n[nH]c(C)c1Cc1c(C)n[nH]c1C', 'Cc1nc(-c2nc(C)c(C)[nH]2)[nH]c1C', 'Cc1nc2ccccc2[nH]1', 'Cc1ncc[nH]1', 'Cc1nccn1-c1ccc(-n2ccnc2C)cc1', 'Cc1nccn1C', 'Cc1nccn1CCCCn1ccnc1C', 'Cn1ccnc1', 'N#CN1CCNCC1', 'N#CN=C(N)N', 'N#Cc1cccc(N)c1', 'N=C(N)CCCC(=N)N', 'N=C(N)N', 'N=C(N)NN', 'N=C(N)Nc1nc2ccccc2[nH]1', 'N=C(N)c1ccc(C(=N)N)cc1', 'N=C(Nc1ccccc1)Nc1ccccc1', 'N=C1C=CC(=C(c2ccc(N)cc2)c2ccc(N)cc2)C=C1', 'N=CN', 'N=c1[nH]cc[nH]1', 'N=c1[nH]cn[nH]1', 'N=c1cccc[nH]1', 'NC12CC3CC(CC(C3)C1)C2', 'NC1CC1', 'NC1CCC(N)CC1', 'NC1CCC1', 'NC1CCCC1', 'NC1CCCCC1', 'NC1CCCCC1N', 'NC1CCCCCC1', 'NC1CCCCCCC1', 'NC1CCCNC1', 'NC1CCNC1', 'NC1CN2CCC1CC2', 'NCC1CCCC(CN)C1', 'NCC1CCCCN1', 'NCC1CCNCC1', 'NCCCC(CN)CN', 'NCCCCCCCCCCCCN', 'NCCCCCCCCCCCN', 'NCCCCCCCCCCN', 'NCCCCCCCCCN', 'NCCCCCCCCN', 'NCCCCCCCN', 'NCCCCCCN', 'NCCCCCCNCCCCCCN', 'NCCCCCN', 'NCCCCN', 'NCCCN', 'NCCCN1CCC1', 'NCCCN1CCN(CCCN)CC1', 'NCCCNCCCCNCCCN', 'NCCCNCCCN', 'NCCCNCCCNCCCN', 'NCCCNCCN', 'NCCCNCCNCCCN', 'NCCCc1ccccc1', 'NCCN', 'NCCN(CCN)CCN', 'NCCN1CCNCC1', 'NCCNCCCNCCN', 'NCCNCCN', 'NCCNCCNCCN', 'NCCNCCNCCNCCN', 'NCCc1c[nH]cn1', 'NCCc1ccccc1', 'NCc1ccc(CN)cc1', 'NCc1cccc(CN)c1', 'NCc1ccccc1', 'NCc1ccccn1', 'NCc1cccnc1', 'Nc1cc(N)nc(N)n1', 'Nc1cc2nc3ccccc3nc2cc1N', 'Nc1ccc(-c2ccc(N)cc2)cc1', 'Nc1ccc(N)cc1', 'Nc1ccc(N=Nc2ccccc2)cc1', 'Nc1cccc(N)c1', 'Nc1cccc(N)n1', 'Nc1ccccc1', 'Nc1ccccc1N', 'Nc1ccccn1', 'Nc1cccnc1', 'Nc1cccnc1N', 'Nc1ccnc2ncnn12', 'Nc1ccncc1', 'Nc1cnccn1', 'Nc1nc(N)nc(N)n1', 'Nc1nc2ccccc2[nH]1', 'Nc1ncccn1', 'Nc1nccnn1', 'Nc1ncnc2[nH]cnc12', 'Nc1ncnc2nc[nH]c12', 'Nc1nnc[nH]1', 'Nn1c(-c2ccncc2)nnc1-c1ccncc1', 'c1c[nH]c(-c2ncc[nH]2)n1', 'c1c[nH]cn1', 'c1cc(-c2cc(-c3ccncc3)c(-c3ccncc3)cc2-c2ccncc2)ccn1', 'c1cc(-c2cc[nH]n2)ccn1', 'c1cc(-c2ccncc2)ccn1', 'c1cc(-c2nc(-c3ccncc3)c(-c3ccncc3)[nH]2)ccn1', 'c1cc(-c2nc(-c3ccncc3)nc(-c3ccncc3)n2)ccn1', 'c1cc(-c2nnc(-c3nnc[nH]3)[nH]2)ccn1', 'c1cc(-c2nnn(CCCn3nnc(-c4ccncc4)n3)n2)ccn1', 'c1cc(-n2ccnc2)cc(-n2ccnc2)c1', 'c1cc(C2C(c3ccncc3)C(c3ccncc3)C2c2ccncc2)ccn1', 'c1cc(CCCc2ccncc2)ccn1', 'c1cc(CCc2ccncc2)ccn1', 'c1cc(Cn2ccnc2)cc(Cn2ccnc2)c1', 'c1cc(Cn2ccnc2-c2nccn2Cc2ccncc2)ccn1', 'c1cc(N2CCNCC2)ccn1', 'c1cc(Nc2ccncc2)ccn1', 'c1cc2cc(c1)CNCCN1CCNCc3cccc(c3)CNCCN(CCNC2)CCNCc2cccc(c2)CNCC1', 'c1cc2ccc1CNCCN1CCNCc3ccc(cc3)CNCCN(CCNC2)CCNCc2ccc(cc2)CNCC1', 'c1cc2nc(c1)CNCCN1CCNCc3cccc(n3)CNCCN(CCNC2)CCNCc2cccc(n2)CNCC1', 'c1ccc(-c2cc[nH]n2)nc1', 'c1ccc(-c2ccc(-c3ccncc3)nc2)cc1', 'c1ccc(-c2cccc(-c3ccccn3)n2)nc1', 'c1ccc(-c2ccccn2)nc1', 'c1ccc(-c2ccncc2)nc1', 'c1ccc(-c2nc(-c3ccccn3)c(-c3ccccn3)nc2-c2ccccn2)nc1', 'c1ccc(-c2ncc[nH]2)cc1', 'c1ccc(-c2nnn[nH]2)cc1', 'c1ccc(C2(c3ccccc3)CCN3CCC(c4ccccc4)(c4ccccc4)NC3=N2)cc1', 'c1ccc(C2C(c3ccccn3)C(c3ccccn3)C2c2ccccn2)nc1', 'c1ccc(C2C(c3ccncc3)C(c3ccccn3)C2c2ccncc2)nc1', 'c1ccc(CN(Cc2ccccn2)c2nc(N(Cc3ccccn3)Cc3ccccn3)nc(N(Cc3ccccn3)Cc3ccccn3)n2)nc1', 'c1ccc(CNCCN(CCNCc2ccccc2)CCNCc2ccccc2)cc1', 'c1ccc(CNCc2ccccc2)cc1', 'c1ccc(Cn2ccnc2N=Nc2ccccc2)cc1', 'c1ccc(N2CCNCC2)cc1', 'c1ccc(N2CCNCC2)nc1', 'c1ccc(N=C(Nc2ccccc2)Nc2ccccc2)cc1', 'c1ccc(N=c2cccc[nH]2)nc1', 'c1ccc(Nc2ccccn2)nc1', 'c1ccc2[nH]c(-c3ccncc3)nc2c1', 'c1ccc2[nH]c(CCCCc3nc4ccccc4[nH]3)nc2c1', 'c1ccc2[nH]cnc2c1', 'c1ccc2[nH]nnc2c1', 'c1ccc2c(c1)ncn2CCCCn1cnc2ccccc21', 'c1ccc2c(c1)nnn2-c1ccc(-n2nnc3ccccc32)cc1', 'c1ccc2ncccc2c1', 'c1ccncc1', 'c1ccnnc1', 'c1cn(-c2cc(-n3ccnc3)cc(-n3ccnc3)c2)cn1', 'c1cn(-c2ccc(-n3ccnc3)cc2)cn1', 'c1cn(-c2ccc(N=Nc3ccc(-n4ccnc4)cc3)cc2)cn1', 'c1cn(CCCCCCn2ccnc2)cn1', 'c1cn(CCCCn2ccnc2)cn1', 'c1cn(CCCn2ccnc2)cn1', 'c1cn(Cc2cc(Cn3ccnc3)cc(Cn3ccnc3)c2)cn1', 'c1cn(Cc2ccc(-c3ccc(Cn4ccnc4)cc3)cc2)cn1', 'c1cn(Cc2ccc(Cn3ccnc3)cc2)cn1', 'c1cn[nH]c1', 'c1cnc(Nc2ncccn2)nc1', 'c1cnc2c(c1)ccc1cccnc12', 'c1cnc2ccc3ncccc3c2c1', 'c1cnc2cccnc2c1', 'c1cncc(-c2cc(-c3cccnc3)nc(-c3cccnc3)c2)c1', 'c1cncc(-c2nc3ccccc3[nH]2)c1', 'c1cncc(CNc2cccnc2)c1', 'c1cnccn1', 'c1cncnc1', 'c1nc[nH]n1', 'c1ncn(-c2ccc(-c3ccc(-n4cncn4)cc3)cc2)n1', 'c1ncn(CCCCCCn2cncn2)n1', 'c1ncn(CCCCCn2cncn2)n1', 'c1ncn(CCCn2cncn2)n1', 'c1nnc[nH]1']\n"
     ]
    }
   ],
   "source": [
    "from cacgan.data.schema import atmo_csv_path\n",
    "from cacgan import AtmoStructureGroup\n",
    "print(atmo_csv_path)\n",
    "atmo_structures = AtmoStructureGroup.from_csv()\n",
    "print(atmo_structures)\n",
    "print(atmo_structures.possible_elements)\n",
    "atmo_structures_grouped_by_amine = atmo_structures.group_by(\"amine\")\n",
    "unique_amines = [ag.first_amine for ag in atmo_structures_grouped_by_amine]\n",
    "print(unique_amines)"
   ]
  },
  {
   "cell_type": "markdown",
   "source": [
    "There is a warning complaining about a invalid entry `YIQRUO`: its CSD formula has two multipliers `n` and `x`,\n",
    "so it cannot be normalized. This entry will be excluded."
   ],
   "metadata": {
    "collapsed": false
   }
  },
  {
   "cell_type": "markdown",
   "source": [
    "Now we use two amine groups to construct a dataset for our model."
   ],
   "metadata": {
    "collapsed": false,
    "pycharm": {
     "name": "#%% md\n"
    }
   }
  },
  {
   "cell_type": "code",
   "execution_count": 10,
   "outputs": [
    {
     "name": "stdout",
     "output_type": "stream",
     "text": [
      "CNC\n",
      "NCCN\n",
      "=== meta ===\n",
      "A group size: 314\n",
      "B group size: 427\n",
      "A group amine: CNC\n",
      "B group amine: NCCN\n",
      "total chem pairs: 413\n",
      "total alchemy pairs: 133665\n",
      "=== dataset ===\n",
      "train a single: 212\n",
      "train b single: 277\n",
      "train a haspair: 102\n",
      "train b haspair: 100\n",
      "train a pool: 314\n",
      "train b pool: 377\n",
      "test a: 102\n",
      "test b: 50\n",
      "test pairs: 131\n",
      "\n"
     ]
    }
   ],
   "source": [
    "from cacgan import GroupAB, FormulaDataset\n",
    "gb, ga = sorted(atmo_structures_grouped_by_amine, key=lambda x: len(x), reverse=True)[:2]\n",
    "dataset = FormulaDataset(GroupAB(ga, gb))\n",
    "# using default setup params\n",
    "dataset.setup()\n",
    "print(dataset.details)"
   ],
   "metadata": {
    "collapsed": false,
    "pycharm": {
     "name": "#%%\n"
    }
   }
  },
  {
   "cell_type": "markdown",
   "source": [
    "With this dataset we can train an augmented cycleGAN model, a list of default model/training parameters can be found\n",
    "in `cacgan.gans.trainer._aug_params`."
   ],
   "metadata": {
    "collapsed": false,
    "pycharm": {
     "name": "#%% md\n"
    }
   }
  },
  {
   "cell_type": "code",
   "execution_count": 13,
   "outputs": [
    {
     "name": "stderr",
     "output_type": "stream",
     "text": [
      "WARNING:root:training with batchsize: 314\n"
     ]
    },
    {
     "name": "stdout",
     "output_type": "stream",
     "text": [
      "Epoch 001/010 [0001/0001] -- D_A: 0.5000 | G_A: 0.9996 | Cyc_A: 0.0138 | D_B: 0.5000 | G_B: 0.9996 | Cyc_B: 0.0127 | G_z_A: 0.9170 | G_z_B: 0.9417 | Cyc_z_B: 0.8223 | Cyc_z_A: 0.8456 | D: 1.9558 | G: 4.1274 | C: 2.6944 -- ETA: 0:00:02.281721\n",
      "Epoch 002/010 [0001/0001] -- D_A: 0.4998 | G_A: 0.9993 | Cyc_A: 0.0138 | D_B: 0.4998 | G_B: 0.9993 | Cyc_B: 0.0127 | G_z_A: 0.8954 | G_z_B: 0.9379 | Cyc_z_B: 0.8311 | Cyc_z_A: 0.8655 | D: 1.9390 | G: 4.1042 | C: 2.7231 -- ETA: 0:00:01.840715\n",
      "Epoch 003/010 [0001/0001] -- D_A: 0.4996 | G_A: 0.9990 | Cyc_A: 0.0138 | D_B: 0.4996 | G_B: 0.9990 | Cyc_B: 0.0127 | G_z_A: 0.8805 | G_z_B: 0.9244 | Cyc_z_B: 0.9243 | Cyc_z_A: 0.8906 | D: 1.9339 | G: 4.0869 | C: 2.8414 -- ETA: 0:00:01.365349\n",
      "Epoch 004/010 [0001/0001] -- D_A: 0.4994 | G_A: 0.9987 | Cyc_A: 0.0138 | D_B: 0.4994 | G_B: 0.9986 | Cyc_B: 0.0126 | G_z_A: 0.8698 | G_z_B: 0.9137 | Cyc_z_B: 0.9303 | Cyc_z_A: 0.8469 | D: 1.9177 | G: 4.0611 | C: 2.8037 -- ETA: 0:00:01.108904\n",
      "Epoch 005/010 [0001/0001] -- D_A: 0.4993 | G_A: 0.9983 | Cyc_A: 0.0138 | D_B: 0.4992 | G_B: 0.9982 | Cyc_B: 0.0124 | G_z_A: 0.8665 | G_z_B: 0.9036 | Cyc_z_B: 0.8696 | Cyc_z_A: 0.8252 | D: 1.9128 | G: 4.0388 | C: 2.7210 -- ETA: 0:00:00.877223\n",
      "Epoch 006/010 [0001/0001] -- D_A: 0.4991 | G_A: 0.9980 | Cyc_A: 0.0138 | D_B: 0.4991 | G_B: 0.9979 | Cyc_B: 0.0127 | G_z_A: 0.8590 | G_z_B: 0.8979 | Cyc_z_B: 0.8692 | Cyc_z_A: 0.9123 | D: 1.9017 | G: 4.0335 | C: 2.8080 -- ETA: 0:00:00.666677\n",
      "Epoch 007/010 [0001/0001] -- D_A: 0.4989 | G_A: 0.9976 | Cyc_A: 0.0138 | D_B: 0.4989 | G_B: 0.9975 | Cyc_B: 0.0126 | G_z_A: 0.8487 | G_z_B: 0.8931 | Cyc_z_B: 0.8951 | Cyc_z_A: 0.8772 | D: 1.8941 | G: 4.0168 | C: 2.7987 -- ETA: 0:00:00.482138\n",
      "Epoch 008/010 [0001/0001] -- D_A: 0.4987 | G_A: 0.9972 | Cyc_A: 0.0138 | D_B: 0.4987 | G_B: 0.9971 | Cyc_B: 0.0127 | G_z_A: 0.8428 | G_z_B: 0.8830 | Cyc_z_B: 0.8842 | Cyc_z_A: 0.9284 | D: 1.8868 | G: 4.0041 | C: 2.8392 -- ETA: 0:00:00.317672\n",
      "Epoch 009/010 [0001/0001] -- D_A: 0.4985 | G_A: 0.9969 | Cyc_A: 0.0138 | D_B: 0.4985 | G_B: 0.9967 | Cyc_B: 0.0127 | G_z_A: 0.8382 | G_z_B: 0.8781 | Cyc_z_B: 0.8906 | Cyc_z_A: 0.8129 | D: 1.8800 | G: 3.9828 | C: 2.7301 -- ETA: 0:00:00.156545\n",
      "Epoch 010/010 [0001/0001] -- D_A: 0.4983 | G_A: 0.9965 | Cyc_A: 0.0138 | D_B: 0.4982 | G_B: 0.9963 | Cyc_B: 0.0127 | G_z_A: 0.8373 | G_z_B: 0.8754 | Cyc_z_B: 0.8634 | Cyc_z_A: 0.8837 | D: 1.8800 | G: 3.9828 | C: 2.7736 -- ETA: 0:00:00\n"
     ]
    },
    {
     "name": "stderr",
     "output_type": "stream",
     "text": [
      "WARNING:root:baseline: 0.03597451429397766\n",
      "WARNING:root:prior: 0.1318897560188154\n"
     ]
    },
    {
     "name": "stdout",
     "output_type": "stream",
     "text": [
      "0.1318897560188154\n"
     ]
    },
    {
     "data": {
      "text/plain": "<Figure size 432x288 with 0 Axes>"
     },
     "metadata": {},
     "output_type": "display_data"
    }
   ],
   "source": [
    "from cacgan import Trainer\n",
    "from cacgan.utils import create_dir\n",
    "from cacgan.gans.trainer import _aug_params, deepcopy\n",
    "\n",
    "# create a working directory\n",
    "model_name = \"aug\"\n",
    "wdir = \"dummy-{}\".format(model_name)\n",
    "create_dir(wdir)\n",
    "\n",
    "# modify default parameters\n",
    "params = deepcopy(_aug_params)\n",
    "params[\"nepochs\"] = 10\n",
    "\n",
    "# create trainer and train the model\n",
    "trainer = Trainer(params, dataset, model_name=model_name, wdir=wdir )\n",
    "trainer.save() # model will be saved in its `wdir`\n",
    "prior_mean = trainer.train(load_pre_trained=False, save_freq=10, eval_after_train=True)\n",
    "print(prior_mean)"
   ],
   "metadata": {
    "collapsed": false,
    "pycharm": {
     "name": "#%%\n"
    }
   }
  }
 ],
 "metadata": {
  "kernelspec": {
   "display_name": "Python 3",
   "language": "python",
   "name": "python3"
  },
  "language_info": {
   "codemirror_mode": {
    "name": "ipython",
    "version": 2
   },
   "file_extension": ".py",
   "mimetype": "text/x-python",
   "name": "python",
   "nbconvert_exporter": "python",
   "pygments_lexer": "ipython2",
   "version": "2.7.6"
  }
 },
 "nbformat": 4,
 "nbformat_minor": 0
}